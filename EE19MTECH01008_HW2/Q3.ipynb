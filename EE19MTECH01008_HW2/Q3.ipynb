{
 "cells": [
  {
   "cell_type": "code",
   "execution_count": 1,
   "metadata": {},
   "outputs": [
    {
     "data": {
      "text/plain": [
       "'\\nQ3) Implement Sparse AutoEncoder using Numpy on MNIST dataset\\nAuthor- Subhra Shankha Bhattacherjee\\nRoll - EE19MTECH01008\\n'"
      ]
     },
     "execution_count": 1,
     "metadata": {},
     "output_type": "execute_result"
    }
   ],
   "source": [
    "\"\"\"\n",
    "Q3) Implement Sparse AutoEncoder using Numpy on MNIST dataset\n",
    "Author- Subhra Shankha Bhattacherjee\n",
    "Roll - EE19MTECH01008\n",
    "\"\"\""
   ]
  },
  {
   "cell_type": "code",
   "execution_count": 2,
   "metadata": {},
   "outputs": [],
   "source": [
    "import numpy as np\n",
    "import matplotlib.pyplot as plt\n",
    "\n",
    "#important functions\n",
    "def sigmoid (x):\n",
    "    return 1/(1 + np.exp(-x))\n",
    "\n",
    "def sigmoid_derivative(x):\n",
    "    return (sigmoid(x)-(sigmoid(x)**2))\n",
    "\n",
    "def error(x,y):\n",
    "    return np.linalg.norm(x-y)**2\n",
    "\n",
    "def for_pass(x,w,b):\n",
    "    return np.dot(x,w)+b\n"
   ]
  },
  {
   "cell_type": "code",
   "execution_count": 5,
   "metadata": {},
   "outputs": [
    {
     "name": "stdout",
     "output_type": "stream",
     "text": [
      "(60000, 14, 14)\n"
     ]
    }
   ],
   "source": [
    "N = 60000 #number of training samples in MNIST\n",
    "lr = 0.00001 #learning rate\n",
    "hid_neur = 100 #number of hidden layer nodes\n",
    "inpt_neur = 196 # (14 x 14)image input nodes, I have used 14x14 imgaes, since i was runnig into memory problem with 28x28 images\n",
    "opt_neur = inpt_neur  # number of output nodes\n",
    "lam = 2 #lagrange multiplier\n",
    "p = 0.3 #sparsity constraint taken from Bernoulli RV with p=0.3\n",
    "\n",
    "\n",
    "\n",
    "X_train = np.load(\"reshaped_mnist.npy\") \n",
    "print(X_train.shape)\n",
    "X = X_train.reshape(N,inpt_neur)\n",
    "X = X/255.0\n",
    "\n",
    "\n",
    "#Random initialization of weights and bias, \n",
    "#I multiplied with small value because I was having issues with initializing,\n",
    "#the network was not learning anything\n",
    "\n",
    "hid_w = 0.001*(np.random.uniform(size=(inpt_neur,hid_neur)))\n",
    "hid_b = 0.001*(np.random.uniform(size=(1,hid_neur)))\n",
    "opt_w = 0.001*(np.random.uniform(size=(hid_neur,opt_neur)))\n",
    "opt_b = 0.001*(np.random.uniform(size=(1,opt_neur)))\n"
   ]
  },
  {
   "cell_type": "code",
   "execution_count": 6,
   "metadata": {},
   "outputs": [
    {
     "name": "stdout",
     "output_type": "stream",
     "text": [
      "2583271.0674478454\n",
      "1287798.7516228824\n",
      "695412.1557820076\n",
      "1368489.8071897572\n",
      "630934.3221260433\n",
      "990745.0830825665\n",
      "649165.734324486\n",
      "1130869.3016712714\n",
      "616080.4034165933\n",
      "884861.488588137\n",
      "626152.6990646606\n",
      "922253.2230206995\n",
      "609734.3417777107\n",
      "826455.9191892637\n",
      "608571.987540842\n",
      "790989.9341816709\n",
      "602854.0352840626\n",
      "749465.740407559\n",
      "599434.7167521045\n",
      "717069.0675696785\n",
      "595961.0739989618\n",
      "690452.1278988566\n",
      "592954.007973623\n",
      "669119.8923280915\n",
      "590193.5842014921\n",
      "652036.4999884771\n",
      "587684.0863090905\n",
      "638375.3410571518\n",
      "585391.9393703175\n",
      "627405.2887255349\n",
      "583295.1595593371\n",
      "618531.5925256145\n",
      "581370.8082578507\n",
      "611284.5353201571\n",
      "579597.1146037956\n",
      "605301.8736670028\n",
      "577954.4503835452\n",
      "600307.7539598615\n",
      "576426.1001678573\n",
      "596093.2230769168\n",
      "574998.3992690953\n",
      "592500.0199265695\n",
      "573660.448889379\n",
      "589407.8680559554\n",
      "572403.6448611027\n",
      "586724.8353276732\n",
      "571221.1847533133\n",
      "584380.149009454\n",
      "570107.6356851438\n",
      "582318.8847072497\n"
     ]
    }
   ],
   "source": [
    "epochs = 50\n",
    "\n",
    "#Training algorithm\n",
    "for i in range(epochs):\n",
    "  \n",
    "    loss = 0\n",
    "    w1 = np.zeros(hid_w.shape)\n",
    "    b1 = np.zeros(hid_b.shape)\n",
    "    w2 = np.zeros(opt_w.shape)\n",
    "    b2 = np.zeros(opt_b.shape)\n",
    "\n",
    "    #Forward Propagation\n",
    "\n",
    "    hid = sigmoid(for_pass(X,hid_w,hid_b))\n",
    "    pred = sigmoid(for_pass(hid,opt_w,opt_b))\n",
    "    \n",
    "    #Backpropagation\n",
    "    \n",
    "    loss = error(pred,X)\n",
    "    hid_opt = 2*(pred-X)*sigmoid_derivative(for_pass(hid,opt_w,opt_b))\n",
    "    z_m = np.mean(hid,axis = 0)\n",
    "    kl = (lam)*(-p/z_m + (1-p)/(1-z_m))*sigmoid_derivative(for_pass(X,hid_w,hid_b))\n",
    "    err_hid = np.matmul(hid_opt,opt_w.T)\n",
    "    der_hid = kl + (sigmoid_derivative(for_pass(X,hid_w,hid_b))*err_hid)\n",
    "   \n",
    "    print(loss)\n",
    "    \n",
    "    #weight & bias update\n",
    "    \n",
    "    hid_w -= np.matmul(X.T,der_hid)*lr\n",
    "    opt_w -= np.matmul(hid.T,hid_opt)*lr\n",
    "    hid_b -= np.sum(der_hid,axis = 0,keepdims = True).reshape(np.shape(hid_b))*lr\n",
    "    opt_b -= np.sum(hid_opt, axis = 0, keepdims = True).reshape(np.shape(opt_b))*lr\n",
    "    "
   ]
  },
  {
   "cell_type": "code",
   "execution_count": 7,
   "metadata": {},
   "outputs": [],
   "source": [
    "out_1 = for_pass(X,hid_w,hid_b)\n",
    "hid = sigmoid(out_1)\n",
    "out_2 = for_pass(hid,opt_w,opt_b)\n",
    "y_pred = sigmoid(out_2)\n",
    "y_pred = y_pred*255.0"
   ]
  },
  {
   "cell_type": "code",
   "execution_count": 13,
   "metadata": {},
   "outputs": [
    {
     "data": {
      "image/png": "[encoded data removed]",
      "text/plain": [
       "<Figure size 432x288 with 1 Axes>"
      ]
     },
     "metadata": {
      "needs_background": "light"
     },
     "output_type": "display_data"
    }
   ],
   "source": [
    "plt.imshow(X[2].reshape(14,14) , cmap='gray')\n",
    "plt.show()"
   ]
  },
  {
   "cell_type": "code",
   "execution_count": 14,
   "metadata": {},
   "outputs": [
    {
     "data": {
      "image/png": "[encoded data removed]",
      "text/plain": [
       "<Figure size 432x288 with 1 Axes>"
      ]
     },
     "metadata": {
      "needs_background": "light"
     },
     "output_type": "display_data"
    }
   ],
   "source": [
    "plt.imshow(y_pred[4].reshape(14,14) , cmap='gray' )\n",
    "plt.show()"
   ]
  },
  {
   "cell_type": "code",
   "execution_count": null,
   "metadata": {},
   "outputs": [],
   "source": []
  }
 ],
 "metadata": {
  "kernelspec": {
   "display_name": "Python 2",
   "language": "python",
   "name": "python2"
  },
  "language_info": {
   "codemirror_mode": {
    "name": "ipython",
    "version": 2
   },
   "file_extension": ".py",
   "mimetype": "text/x-python",
   "name": "python",
   "nbconvert_exporter": "python",
   "pygments_lexer": "ipython2",
   "version": "2.7.15"
  }
 },
 "nbformat": 4,
 "nbformat_minor": 2
}
