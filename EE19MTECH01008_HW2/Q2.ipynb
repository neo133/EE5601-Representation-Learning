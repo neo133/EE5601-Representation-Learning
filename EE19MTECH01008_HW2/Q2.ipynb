{
 "cells": [
  {
   "cell_type": "code",
   "execution_count": 1,
   "metadata": {},
   "outputs": [
    {
     "data": {
      "text/plain": [
       "'\\nQ2) Implement AutoEncoder using Numpy on MNIST dataset\\nAuthor- Subhra Shankha Bhattacherjee\\nRoll - EE19MTECH01008\\n'"
      ]
     },
     "execution_count": 1,
     "metadata": {},
     "output_type": "execute_result"
    }
   ],
   "source": [
    "\"\"\"\n",
    "Q2) Implement AutoEncoder using Numpy on MNIST dataset\n",
    "Author- Subhra Shankha Bhattacherjee\n",
    "Roll - EE19MTECH01008\n",
    "\"\"\""
   ]
  },
  {
   "cell_type": "code",
   "execution_count": 2,
   "metadata": {},
   "outputs": [],
   "source": [
    "import numpy as np\n",
    "import matplotlib.pyplot as plt\n",
    "\n",
    "#important functions\n",
    "def sigmoid (x):\n",
    "    return 1/(1 + np.exp(-x))\n",
    "\n",
    "def sigmoid_derivative(x):\n",
    "    return sigmoid(x) * (1 - sigmoid(x))\n",
    "\n",
    "def error(x,y):\n",
    "    return np.linalg.norm(x-y)**2\n",
    "\n",
    "def for_pass(x,w,b):\n",
    "    return np.dot(x,w)+b"
   ]
  },
  {
   "cell_type": "code",
   "execution_count": 3,
   "metadata": {},
   "outputs": [
    {
     "name": "stdout",
     "output_type": "stream",
     "text": [
      "(60000, 14, 14)\n"
     ]
    }
   ],
   "source": [
    "N = 60000 #number of training samples in MNIST\n",
    "lr = 0.00001 #learning rate\n",
    "hid_neur = 200 #number of hidden layer nodes\n",
    "inpt_neur = 196 # (14 x 14)image input nodes, I have used 14x14 imgaes, since i was runnig into memory problem with 28x28 images\n",
    "opt_neur = inpt_neur  # number of output nodes\n",
    "\n",
    "\n",
    "X_train = np.load(\"reshaped_mnist.npy\") \n",
    "print(X_train.shape)\n",
    "X = X_train.reshape(N,inpt_neur)\n",
    "X = X/255.0\n",
    "\n",
    "\n",
    "#Random initialization of weights and bias ,\n",
    "# I multiplied with small value because I was having issues with initializing,\n",
    "# the network was not learning anything\n",
    "\n",
    "hid_w = 0.001*(np.random.uniform(size=(inpt_neur,hid_neur)))\n",
    "hid_b = 0.001*(np.random.uniform(size=(1,hid_neur)))\n",
    "opt_w = 0.001*(np.random.uniform(size=(hid_neur,opt_neur)))\n",
    "opt_b = 0.001*(np.random.uniform(size=(1,opt_neur)))\n"
   ]
  },
  {
   "cell_type": "code",
   "execution_count": 4,
   "metadata": {},
   "outputs": [
    {
     "name": "stdout",
     "output_type": "stream",
     "text": [
      "2639185.5598004768\n",
      "807307.1790937011\n",
      "777870.0718881352\n",
      "814197.7259600018\n",
      "697372.4613846882\n",
      "706860.5895539685\n",
      "707507.227922458\n",
      "681042.1442005059\n",
      "669911.71689276\n",
      "659190.1145512932\n",
      "655009.6590967254\n",
      "643933.7444554096\n",
      "636746.2958816899\n",
      "626395.433287519\n",
      "619734.2277086792\n",
      "612834.335832\n",
      "608053.3937613225\n",
      "603989.2110516484\n",
      "600997.0119012804\n",
      "598588.4616648105\n",
      "596666.401900313\n",
      "595070.4254897718\n",
      "593697.4141976462\n",
      "592477.8505234113\n",
      "591358.6230364894\n",
      "590310.0950200156\n",
      "589314.860882695\n",
      "588366.1883806152\n",
      "587463.1669699147\n",
      "586607.4430599922\n",
      "585800.7687308397\n",
      "585043.5848438169\n",
      "584334.6307787142\n",
      "583671.1465278822\n",
      "583049.3963279267\n",
      "582465.2055604251\n",
      "581914.3833225917\n",
      "581392.9833458384\n",
      "580897.4308961262\n",
      "580424.5585278384\n",
      "579971.5915832275\n",
      "579536.1111576678\n",
      "579116.0109026165\n",
      "578709.4557276021\n",
      "578314.8455970058\n",
      "577930.7850008656\n",
      "577556.0574876195\n",
      "577189.6042443309\n",
      "576830.5057226722\n",
      "576477.9655031936\n"
     ]
    }
   ],
   "source": [
    "epochs = 50\n",
    "\n",
    "#Training algorithm\n",
    "\n",
    "for i in range(epochs):\n",
    "  \n",
    "    loss = 0\n",
    "    w1 = np.zeros(hid_w.shape)\n",
    "    b1 = np.zeros(hid_b.shape)\n",
    "    w2 = np.zeros(opt_w.shape)\n",
    "    b2 = np.zeros(opt_b.shape)\n",
    "\n",
    "    #Forward Propagation\n",
    "\n",
    "    hid = sigmoid(for_pass(X,hid_w,hid_b))\n",
    "    pred = sigmoid(for_pass(hid,opt_w,opt_b))\n",
    "    \n",
    "    #Backpropagation\n",
    "    \n",
    "    loss = error(pred,X)\n",
    "    hid_opt = 2*(pred-X)*sigmoid_derivative(for_pass(hid,opt_w,opt_b))\n",
    "\n",
    "    err_hid = np.matmul(hid_opt,opt_w.T)\n",
    "    der_hid = sigmoid_derivative(for_pass(X,hid_w,hid_b))*err_hid\n",
    "   \n",
    "    print(loss)\n",
    "    \n",
    "    #weight & bias update\n",
    "    \n",
    "    hid_w -= np.matmul(X.T,der_hid)*lr\n",
    "    opt_w -= np.matmul(hid.T,hid_opt)*lr\n",
    "    hid_b -= np.sum(der_hid,axis=0, keepdims =True).reshape(np.shape(hid_b))*lr\n",
    "    opt_b -= np.sum(hid_opt, axis = 0, keepdims=True).reshape(np.shape(opt_b))*lr\n",
    "    "
   ]
  },
  {
   "cell_type": "code",
   "execution_count": 5,
   "metadata": {},
   "outputs": [],
   "source": [
    "#testing the model\n",
    "\n",
    "out_1 = for_pass(X,hid_w,hid_b)\n",
    "z = sigmoid(out_1)\n",
    "out_2 = for_pass(z,opt_w,opt_b)\n",
    "y_pred = sigmoid(out_2)\n",
    "y_pred = y_pred*255.0"
   ]
  },
  {
   "cell_type": "code",
   "execution_count": 6,
   "metadata": {},
   "outputs": [
    {
     "data": {
      "image/png": "[encoded data removed]",
      "text/plain": [
       "<Figure size 432x288 with 1 Axes>"
      ]
     },
     "metadata": {
      "needs_background": "light"
     },
     "output_type": "display_data"
    }
   ],
   "source": [
    "plt.imshow(X[3].reshape(14,14) , cmap='gray')\n",
    "plt.show()"
   ]
  },
  {
   "cell_type": "code",
   "execution_count": 7,
   "metadata": {},
   "outputs": [
    {
     "data": {
      "image/png": "[encoded data removed]",
      "text/plain": [
       "<Figure size 432x288 with 1 Axes>"
      ]
     },
     "metadata": {
      "needs_background": "light"
     },
     "output_type": "display_data"
    }
   ],
   "source": [
    "plt.imshow(y_pred[0].reshape(14,14) , cmap='gray' )\n",
    "plt.show()"
   ]
  },
  {
   "cell_type": "code",
   "execution_count": null,
   "metadata": {},
   "outputs": [],
   "source": []
  }
 ],
 "metadata": {
  "kernelspec": {
   "display_name": "Python 2",
   "language": "python",
   "name": "python2"
  },
  "language_info": {
   "codemirror_mode": {
    "name": "ipython",
    "version": 2
   },
   "file_extension": ".py",
   "mimetype": "text/x-python",
   "name": "python",
   "nbconvert_exporter": "python",
   "pygments_lexer": "ipython2",
   "version": "2.7.15"
  }
 },
 "nbformat": 4,
 "nbformat_minor": 2
}
